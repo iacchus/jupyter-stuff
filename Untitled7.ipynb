{
 "cells": [
  {
   "cell_type": "code",
   "execution_count": 3,
   "metadata": {
    "collapsed": true
   },
   "outputs": [],
   "source": [
    "from music21 import *"
   ]
  },
  {
   "cell_type": "code",
   "execution_count": 4,
   "metadata": {
    "collapsed": false
   },
   "outputs": [
    {
     "name": "stderr",
     "output_type": "stream",
     "text": [
      "music21.base.py: Caller first is <music21.stream.Part 0x7fa7f08fb908_flat> with offsetAppend 0.0\n",
      "music21.base.py: looking now in derivedObject, <music21.stream.Part 0x7fa7f08fb908_flat> with offsetAppend 0.0\n",
      "music21.base.py: Caller first is <music21.stream.Part 0x7fa7f08fb908_flat> with offsetAppend 0.0\n",
      "music21.base.py: Yielding (<music21.stream.Part 0x7fa7f08fb908_flat>, 0.0, 'flatten') from derivedObject contextSites\n",
      "music21.base.py: --returning from derivedObject search\n",
      "music21.base.py: --returning from derivedObject search\n",
      "converter/subConverters.py: environment.py temporary file: /home/iacchus/git-stuff/jupyter-venv/scratchdir/tmpww6fpai3.xml\n"
     ]
    },
    {
     "data": {
      "image/png": "[encoded data removed]",
      "text/plain": [
       "<music21.ipython21.objects.IPythonPNGObject at 0x7fa7f08fb828>"
      ]
     },
     "execution_count": 4,
     "metadata": {},
     "output_type": "execute_result"
    }
   ],
   "source": [
    "littleMelody = converter.parse(\"tinynotation: 3/4 c4 d8 f g16 a g f#\")\n",
    "littleMelody.show()\n"
   ]
  },
  {
   "cell_type": "code",
   "execution_count": null,
   "metadata": {
    "collapsed": true
   },
   "outputs": [],
   "source": []
  }
 ],
 "metadata": {
  "kernelspec": {
   "display_name": "Python 3",
   "language": "python",
   "name": "python3"
  },
  "language_info": {
   "codemirror_mode": {
    "name": "ipython",
    "version": 3
   },
   "file_extension": ".py",
   "mimetype": "text/x-python",
   "name": "python",
   "nbconvert_exporter": "python",
   "pygments_lexer": "ipython3",
   "version": "3.5.2"
  }
 },
 "nbformat": 4,
 "nbformat_minor": 0
}
